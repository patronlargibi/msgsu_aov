{
 "cells": [
  {
   "cell_type": "code",
   "execution_count": 1,
   "id": "52803338-b184-43a5-bad0-8bd0ffba057d",
   "metadata": {},
   "outputs": [
    {
     "name": "stderr",
     "output_type": "stream",
     "text": [
      "C:\\ProgramData\\Anaconda3\\lib\\site-packages\\outdated\\utils.py:14: OutdatedPackageWarning: The package pingouin is out of date. Your version is 0.5.1, the latest is 0.5.3.\n",
      "Set the environment variable OUTDATED_IGNORE=1 to disable these warnings.\n",
      "  return warn(\n",
      "C:\\ProgramData\\Anaconda3\\lib\\site-packages\\outdated\\utils.py:14: OutdatedPackageWarning: The package outdated is out of date. Your version is 0.2.1, the latest is 0.2.2.\n",
      "Set the environment variable OUTDATED_IGNORE=1 to disable these warnings.\n",
      "  return warn(\n"
     ]
    }
   ],
   "source": [
    "import pandas as pd\n",
    "import numpy as np\n",
    "import pingouin as pg\n",
    "from tqdm import tqdm\n",
    "\n",
    "import matplotlib.pyplot as plt\n",
    "import seaborn as sns\n",
    "\n",
    "import requests\n",
    "from bs4 import BeautifulSoup\n",
    "from selenium import webdriver #Importing the web driver from selenium library\n",
    "\n",
    "import glob\n",
    "import io   \n",
    "import re\n",
    "import time\n",
    "import warnings\n",
    "warnings.filterwarnings(\"ignore\")\n",
    "\n",
    "import sqlite3\n",
    "#https://stackoverflow.com/a/42796283\n",
    "\n",
    "#Make the db in memory\n",
    "conn = sqlite3.connect(':memory:')\n",
    "\n",
    "%run D:\\0_project\\0_python_func\\display_all.py\n",
    "path_deprem = r'D:\\0_project\\2_work\\202211_msgsu_varyans\\data\\earthquake'\n",
    "path_solar = r'D:\\0_project\\2_work\\202211_msgsu_varyans\\data\\solar_eclipse'\n",
    "path_df = r'D:\\0_project\\2_work\\202211_msgsu_varyans\\data\\df'"
   ]
  },
  {
   "cell_type": "code",
   "execution_count": 2,
   "id": "04b7f739-214a-4c6a-ba9d-05ab5fd81bbd",
   "metadata": {},
   "outputs": [],
   "source": [
    "from shapely.geometry import Point\n",
    "from shapely.geometry.polygon import Polygon\n",
    "from shapely.ops import nearest_points\n",
    "#polygon = Polygon([tuple(x) for x in df_poly[['Lat', 'Lon']].to_numpy()])\n",
    "#df_points['Within'] = df_points.apply(lambda x: polygon.contains(Point(x['Lat'], x['Lon'])), axis=1)"
   ]
  },
  {
   "cell_type": "code",
   "execution_count": 3,
   "id": "542682be-29f4-43de-94ac-3b377e5ce78a",
   "metadata": {},
   "outputs": [],
   "source": [
    "dosya_ismi = '\\\\df_45_'\n",
    "dosya_uzantı = '.csv'"
   ]
  },
  {
   "cell_type": "code",
   "execution_count": 4,
   "id": "a92993d6-bae9-45f4-9b6e-116bdcfc2f4a",
   "metadata": {},
   "outputs": [],
   "source": [
    "# Birden fazla dosyayı tek DataFrame'de import etme:\n",
    "files = glob.glob(path_df + '\\\\*.csv')\n",
    "#print(files)"
   ]
  },
  {
   "cell_type": "markdown",
   "id": "e6656148-0781-46ec-8cf1-1885f221af4e",
   "metadata": {},
   "source": [
    "# Import Data"
   ]
  },
  {
   "cell_type": "code",
   "execution_count": 5,
   "id": "bb931b38-95bb-4cee-bd84-891fe5cfbfa1",
   "metadata": {},
   "outputs": [
    {
     "data": {
      "text/html": [
       "<div>\n",
       "<style scoped>\n",
       "    .dataframe tbody tr th:only-of-type {\n",
       "        vertical-align: middle;\n",
       "    }\n",
       "\n",
       "    .dataframe tbody tr th {\n",
       "        vertical-align: top;\n",
       "    }\n",
       "\n",
       "    .dataframe thead th {\n",
       "        text-align: right;\n",
       "    }\n",
       "</style>\n",
       "<table border=\"1\" class=\"dataframe\">\n",
       "  <thead>\n",
       "    <tr style=\"text-align: right;\">\n",
       "      <th></th>\n",
       "      <th>se_date</th>\n",
       "      <th>eq_time</th>\n",
       "      <th>eq_lat</th>\n",
       "      <th>eq_lon</th>\n",
       "      <th>flag_deprem_kontrol_1</th>\n",
       "      <th>flag_icinde</th>\n",
       "      <th>nn_lat</th>\n",
       "      <th>nn_lon</th>\n",
       "      <th>distance_km</th>\n",
       "    </tr>\n",
       "  </thead>\n",
       "  <tbody>\n",
       "    <tr>\n",
       "      <th>0</th>\n",
       "      <td>1952-02-25 00:00:00</td>\n",
       "      <td>1952-02-28 00:34:06</td>\n",
       "      <td>-12.900</td>\n",
       "      <td>66.206</td>\n",
       "      <td>1</td>\n",
       "      <td>False</td>\n",
       "      <td>16.717778</td>\n",
       "      <td>34.584444</td>\n",
       "      <td>4784.148029</td>\n",
       "    </tr>\n",
       "    <tr>\n",
       "      <th>1</th>\n",
       "      <td>1952-02-25 00:00:00</td>\n",
       "      <td>1952-03-02 18:52:57</td>\n",
       "      <td>11.303</td>\n",
       "      <td>-86.239</td>\n",
       "      <td>1</td>\n",
       "      <td>False</td>\n",
       "      <td>0.251667</td>\n",
       "      <td>-14.650556</td>\n",
       "      <td>7990.592495</td>\n",
       "    </tr>\n",
       "  </tbody>\n",
       "</table>\n",
       "</div>"
      ],
      "text/plain": [
       "               se_date              eq_time  eq_lat  eq_lon  \\\n",
       "0  1952-02-25 00:00:00  1952-02-28 00:34:06 -12.900  66.206   \n",
       "1  1952-02-25 00:00:00  1952-03-02 18:52:57  11.303 -86.239   \n",
       "\n",
       "   flag_deprem_kontrol_1  flag_icinde     nn_lat     nn_lon  distance_km  \n",
       "0                      1        False  16.717778  34.584444  4784.148029  \n",
       "1                      1        False   0.251667 -14.650556  7990.592495  "
      ]
     },
     "metadata": {},
     "output_type": "display_data"
    },
    {
     "data": {
      "text/html": [
       "<div>\n",
       "<style scoped>\n",
       "    .dataframe tbody tr th:only-of-type {\n",
       "        vertical-align: middle;\n",
       "    }\n",
       "\n",
       "    .dataframe tbody tr th {\n",
       "        vertical-align: top;\n",
       "    }\n",
       "\n",
       "    .dataframe thead th {\n",
       "        text-align: right;\n",
       "    }\n",
       "</style>\n",
       "<table border=\"1\" class=\"dataframe\">\n",
       "  <thead>\n",
       "    <tr style=\"text-align: right;\">\n",
       "      <th></th>\n",
       "      <th>se_date</th>\n",
       "      <th>eq_time</th>\n",
       "      <th>eq_lat</th>\n",
       "      <th>eq_lon</th>\n",
       "      <th>flag_deprem_kontrol_1</th>\n",
       "      <th>flag_icinde</th>\n",
       "      <th>nn_lat</th>\n",
       "      <th>nn_lon</th>\n",
       "      <th>distance_km</th>\n",
       "    </tr>\n",
       "  </thead>\n",
       "  <tbody>\n",
       "    <tr>\n",
       "      <th>7170</th>\n",
       "      <td>2021-12-04 00:00:00</td>\n",
       "      <td>2022-01-17 15:44:14</td>\n",
       "      <td>-26.7875</td>\n",
       "      <td>-176.4386</td>\n",
       "      <td>1</td>\n",
       "      <td>False</td>\n",
       "      <td>-71.2500</td>\n",
       "      <td>-128.601111</td>\n",
       "      <td>5748.468918</td>\n",
       "    </tr>\n",
       "    <tr>\n",
       "      <th>7171</th>\n",
       "      <td>2021-12-04 00:00:00</td>\n",
       "      <td>2022-01-17 22:59:23</td>\n",
       "      <td>29.2819</td>\n",
       "      <td>94.1513</td>\n",
       "      <td>1</td>\n",
       "      <td>False</td>\n",
       "      <td>-61.8675</td>\n",
       "      <td>-35.752222</td>\n",
       "      <td>14895.102722</td>\n",
       "    </tr>\n",
       "  </tbody>\n",
       "</table>\n",
       "</div>"
      ],
      "text/plain": [
       "                  se_date              eq_time   eq_lat    eq_lon  \\\n",
       "7170  2021-12-04 00:00:00  2022-01-17 15:44:14 -26.7875 -176.4386   \n",
       "7171  2021-12-04 00:00:00  2022-01-17 22:59:23  29.2819   94.1513   \n",
       "\n",
       "      flag_deprem_kontrol_1  flag_icinde   nn_lat      nn_lon   distance_km  \n",
       "7170                      1        False -71.2500 -128.601111   5748.468918  \n",
       "7171                      1        False -61.8675  -35.752222  14895.102722  "
      ]
     },
     "metadata": {},
     "output_type": "display_data"
    },
    {
     "name": "stdout",
     "output_type": "stream",
     "text": [
      "<class 'pandas.core.frame.DataFrame'>\n",
      "RangeIndex: 7172 entries, 0 to 7171\n",
      "Data columns (total 9 columns):\n",
      " #   Column                 Non-Null Count  Dtype  \n",
      "---  ------                 --------------  -----  \n",
      " 0   se_date                7172 non-null   object \n",
      " 1   eq_time                7172 non-null   object \n",
      " 2   eq_lat                 7172 non-null   float64\n",
      " 3   eq_lon                 7172 non-null   float64\n",
      " 4   flag_deprem_kontrol_1  7172 non-null   int64  \n",
      " 5   flag_icinde            7172 non-null   bool   \n",
      " 6   nn_lat                 7172 non-null   float64\n",
      " 7   nn_lon                 7171 non-null   float64\n",
      " 8   distance_km            7171 non-null   float64\n",
      "dtypes: bool(1), float64(5), int64(1), object(2)\n",
      "memory usage: 455.4+ KB\n"
     ]
    },
    {
     "data": {
      "text/plain": [
       "None"
      ]
     },
     "metadata": {},
     "output_type": "display_data"
    }
   ],
   "source": [
    "raw = pd.read_csv(path_df + dosya_ismi + dosya_uzantı)\n",
    "\n",
    "display_all(raw.head(2))\n",
    "display_all(raw.tail(2))\n",
    "display_all(raw.info())"
   ]
  },
  {
   "cell_type": "code",
   "execution_count": 6,
   "id": "e6ea5287-22fe-4229-8f70-cf461100d34b",
   "metadata": {},
   "outputs": [],
   "source": [
    "df = raw.copy()\n",
    "cond = [(df.flag_icinde==True),\n",
    "       ((df.flag_icinde==False)&(df.distance_km<=2000))]\n",
    "choi = [1,1]\n",
    "\n",
    "df['bagimli'] = np.select(cond,choi,0)\n",
    "df['se_date'] = pd.to_datetime(df['se_date'])\n",
    "df['eq_time'] = pd.to_datetime(df['eq_time'])\n",
    "df['delta_t'] = (df['eq_time']-df['se_date'])/np.timedelta64(1,'D')"
   ]
  },
  {
   "cell_type": "markdown",
   "id": "397deffc-fb74-4ce1-a24e-63b750a675dc",
   "metadata": {},
   "source": [
    "# Testler"
   ]
  },
  {
   "cell_type": "markdown",
   "id": "263d28d3-4be8-40c0-ba99-161a2db72e8a",
   "metadata": {},
   "source": [
    "## Normallik Testi"
   ]
  },
  {
   "cell_type": "code",
   "execution_count": 7,
   "id": "7fd6ee71-aa65-49e7-a6c6-3c59620f7c9b",
   "metadata": {},
   "outputs": [
    {
     "data": {
      "text/html": [
       "<div>\n",
       "<style scoped>\n",
       "    .dataframe tbody tr th:only-of-type {\n",
       "        vertical-align: middle;\n",
       "    }\n",
       "\n",
       "    .dataframe tbody tr th {\n",
       "        vertical-align: top;\n",
       "    }\n",
       "\n",
       "    .dataframe thead th {\n",
       "        text-align: right;\n",
       "    }\n",
       "</style>\n",
       "<table border=\"1\" class=\"dataframe\">\n",
       "  <thead>\n",
       "    <tr style=\"text-align: right;\">\n",
       "      <th></th>\n",
       "      <th>variable</th>\n",
       "      <th>value</th>\n",
       "    </tr>\n",
       "  </thead>\n",
       "  <tbody>\n",
       "    <tr>\n",
       "      <th>0</th>\n",
       "      <td>df0</td>\n",
       "      <td>3.023681</td>\n",
       "    </tr>\n",
       "    <tr>\n",
       "      <th>1</th>\n",
       "      <td>df0</td>\n",
       "      <td>6.786771</td>\n",
       "    </tr>\n",
       "  </tbody>\n",
       "</table>\n",
       "</div>"
      ],
      "text/plain": [
       "  variable     value\n",
       "0      df0  3.023681\n",
       "1      df0  6.786771"
      ]
     },
     "execution_count": 7,
     "metadata": {},
     "output_type": "execute_result"
    }
   ],
   "source": [
    "df_0 = df[df.bagimli==0][['delta_t']]\n",
    "df_0.columns = ['df0']\n",
    "df_1 = df[df.bagimli==1][['delta_t']]\n",
    "df_1.columns = ['df1']\n",
    "\n",
    "df_ = pd.DataFrame(pd.concat([df_0,df_1],axis=1))\n",
    "df_ = df_[['df0', 'df1']].melt()\n",
    "#df__['value'] = df__['value'].fillna(0)\n",
    "df_ = df_.dropna()\n",
    "\n",
    "df_.head(2)"
   ]
  },
  {
   "cell_type": "code",
   "execution_count": 8,
   "id": "9d4284e5-6976-48fc-8aff-9682aa5ef3f3",
   "metadata": {},
   "outputs": [
    {
     "data": {
      "text/html": [
       "<div>\n",
       "<style scoped>\n",
       "    .dataframe tbody tr th:only-of-type {\n",
       "        vertical-align: middle;\n",
       "    }\n",
       "\n",
       "    .dataframe tbody tr th {\n",
       "        vertical-align: top;\n",
       "    }\n",
       "\n",
       "    .dataframe thead th {\n",
       "        text-align: right;\n",
       "    }\n",
       "</style>\n",
       "<table border=\"1\" class=\"dataframe\">\n",
       "  <thead>\n",
       "    <tr style=\"text-align: right;\">\n",
       "      <th></th>\n",
       "      <th>W</th>\n",
       "      <th>pval</th>\n",
       "      <th>normal</th>\n",
       "    </tr>\n",
       "  </thead>\n",
       "  <tbody>\n",
       "    <tr>\n",
       "      <th>df0</th>\n",
       "      <td>0.948292</td>\n",
       "      <td>3.040397e-41</td>\n",
       "      <td>False</td>\n",
       "    </tr>\n",
       "    <tr>\n",
       "      <th>df1</th>\n",
       "      <td>0.947730</td>\n",
       "      <td>3.162427e-21</td>\n",
       "      <td>False</td>\n",
       "    </tr>\n",
       "  </tbody>\n",
       "</table>\n",
       "</div>"
      ],
      "text/plain": [
       "            W          pval  normal\n",
       "df0  0.948292  3.040397e-41   False\n",
       "df1  0.947730  3.162427e-21   False"
      ]
     },
     "execution_count": 8,
     "metadata": {},
     "output_type": "execute_result"
    }
   ],
   "source": [
    "pg.normality(df_, dv='value', group='variable')"
   ]
  },
  {
   "cell_type": "markdown",
   "id": "1825aadb-89d6-4437-bcbc-b6d8d75af60e",
   "metadata": {},
   "source": [
    "## Kruskal Wallis"
   ]
  },
  {
   "cell_type": "code",
   "execution_count": 9,
   "id": "043371d6-d76d-44b9-8a2b-a54ca0535ae3",
   "metadata": {},
   "outputs": [
    {
     "data": {
      "text/html": [
       "<div>\n",
       "<style scoped>\n",
       "    .dataframe tbody tr th:only-of-type {\n",
       "        vertical-align: middle;\n",
       "    }\n",
       "\n",
       "    .dataframe tbody tr th {\n",
       "        vertical-align: top;\n",
       "    }\n",
       "\n",
       "    .dataframe thead th {\n",
       "        text-align: right;\n",
       "    }\n",
       "</style>\n",
       "<table border=\"1\" class=\"dataframe\">\n",
       "  <thead>\n",
       "    <tr style=\"text-align: right;\">\n",
       "      <th></th>\n",
       "      <th>Source</th>\n",
       "      <th>ddof1</th>\n",
       "      <th>H</th>\n",
       "      <th>p-unc</th>\n",
       "    </tr>\n",
       "  </thead>\n",
       "  <tbody>\n",
       "    <tr>\n",
       "      <th>Kruskal</th>\n",
       "      <td>variable</td>\n",
       "      <td>1</td>\n",
       "      <td>1.05843</td>\n",
       "      <td>0.303573</td>\n",
       "    </tr>\n",
       "  </tbody>\n",
       "</table>\n",
       "</div>"
      ],
      "text/plain": [
       "           Source  ddof1        H     p-unc\n",
       "Kruskal  variable      1  1.05843  0.303573"
      ]
     },
     "execution_count": 9,
     "metadata": {},
     "output_type": "execute_result"
    }
   ],
   "source": [
    "#The Kruskal-Wallis H-test tests the null hypothesis that the population median of all of the groups are equal.\n",
    "# https://pingouin-stats.org/build/html/generated/pingouin.kruskal.html#pingouin.kruskal\n",
    "pg.kruskal(df_, dv='value', between='variable')\n",
    "# H0 ret. Yani Medyanlar eşit."
   ]
  },
  {
   "cell_type": "markdown",
   "id": "327c9845-b941-45fe-97e2-02b57a858720",
   "metadata": {},
   "source": [
    "## Eşit Varyans Testi"
   ]
  },
  {
   "cell_type": "code",
   "execution_count": 10,
   "id": "45320e99-c94d-4ee3-badf-7e613abbf824",
   "metadata": {},
   "outputs": [
    {
     "data": {
      "text/html": [
       "<div>\n",
       "<style scoped>\n",
       "    .dataframe tbody tr th:only-of-type {\n",
       "        vertical-align: middle;\n",
       "    }\n",
       "\n",
       "    .dataframe tbody tr th {\n",
       "        vertical-align: top;\n",
       "    }\n",
       "\n",
       "    .dataframe thead th {\n",
       "        text-align: right;\n",
       "    }\n",
       "</style>\n",
       "<table border=\"1\" class=\"dataframe\">\n",
       "  <thead>\n",
       "    <tr style=\"text-align: right;\">\n",
       "      <th></th>\n",
       "      <th>W</th>\n",
       "      <th>pval</th>\n",
       "      <th>equal_var</th>\n",
       "    </tr>\n",
       "  </thead>\n",
       "  <tbody>\n",
       "    <tr>\n",
       "      <th>levene</th>\n",
       "      <td>1.367137</td>\n",
       "      <td>0.242343</td>\n",
       "      <td>True</td>\n",
       "    </tr>\n",
       "  </tbody>\n",
       "</table>\n",
       "</div>"
      ],
      "text/plain": [
       "               W      pval  equal_var\n",
       "levene  1.367137  0.242343       True"
      ]
     },
     "execution_count": 10,
     "metadata": {},
     "output_type": "execute_result"
    }
   ],
   "source": [
    "pg.homoscedasticity(df_, dv=\"value\", group=\"variable\")"
   ]
  },
  {
   "cell_type": "code",
   "execution_count": 11,
   "id": "954910b9-4ae1-426d-a517-fe69771bac52",
   "metadata": {},
   "outputs": [
    {
     "data": {
      "text/html": [
       "<div>\n",
       "<style scoped>\n",
       "    .dataframe tbody tr th:only-of-type {\n",
       "        vertical-align: middle;\n",
       "    }\n",
       "\n",
       "    .dataframe tbody tr th {\n",
       "        vertical-align: top;\n",
       "    }\n",
       "\n",
       "    .dataframe thead tr th {\n",
       "        text-align: left;\n",
       "    }\n",
       "\n",
       "    .dataframe thead tr:last-of-type th {\n",
       "        text-align: right;\n",
       "    }\n",
       "</style>\n",
       "<table border=\"1\" class=\"dataframe\">\n",
       "  <thead>\n",
       "    <tr>\n",
       "      <th></th>\n",
       "      <th>median</th>\n",
       "      <th>mean</th>\n",
       "      <th>std</th>\n",
       "    </tr>\n",
       "    <tr>\n",
       "      <th></th>\n",
       "      <th>value</th>\n",
       "      <th>value</th>\n",
       "      <th>value</th>\n",
       "    </tr>\n",
       "    <tr>\n",
       "      <th>variable</th>\n",
       "      <th></th>\n",
       "      <th></th>\n",
       "      <th></th>\n",
       "    </tr>\n",
       "  </thead>\n",
       "  <tbody>\n",
       "    <tr>\n",
       "      <th>df0</th>\n",
       "      <td>23.640023</td>\n",
       "      <td>23.327104</td>\n",
       "      <td>13.218475</td>\n",
       "    </tr>\n",
       "    <tr>\n",
       "      <th>df1</th>\n",
       "      <td>24.323264</td>\n",
       "      <td>23.733318</td>\n",
       "      <td>13.073512</td>\n",
       "    </tr>\n",
       "  </tbody>\n",
       "</table>\n",
       "</div>"
      ],
      "text/plain": [
       "             median       mean        std\n",
       "              value      value      value\n",
       "variable                                 \n",
       "df0       23.640023  23.327104  13.218475\n",
       "df1       24.323264  23.733318  13.073512"
      ]
     },
     "execution_count": 11,
     "metadata": {},
     "output_type": "execute_result"
    }
   ],
   "source": [
    "pd.pivot_table(df_,\n",
    "               index='variable',\n",
    "               values='value',\n",
    "               aggfunc=[np.median,np.mean,np.std])"
   ]
  },
  {
   "cell_type": "code",
   "execution_count": 88,
   "id": "c912ac0e-413e-46ec-bda6-5a56a0d094a0",
   "metadata": {},
   "outputs": [
    {
     "data": {
      "text/plain": [
       "count    5853.000000\n",
       "mean       23.327104\n",
       "std        13.218475\n",
       "min         0.248009\n",
       "25%        11.761157\n",
       "50%        23.640023\n",
       "75%        35.015000\n",
       "max        45.922720\n",
       "Name: asd, dtype: float64"
      ]
     },
     "execution_count": 88,
     "metadata": {},
     "output_type": "execute_result"
    }
   ],
   "source": [
    "bag_0"
   ]
  },
  {
   "cell_type": "code",
   "execution_count": 90,
   "id": "3e1657b0-6835-40d4-bc78-f305a2be4eac",
   "metadata": {},
   "outputs": [
    {
     "data": {
      "text/html": [
       "<div>\n",
       "<style scoped>\n",
       "    .dataframe tbody tr th:only-of-type {\n",
       "        vertical-align: middle;\n",
       "    }\n",
       "\n",
       "    .dataframe tbody tr th {\n",
       "        vertical-align: top;\n",
       "    }\n",
       "\n",
       "    .dataframe thead th {\n",
       "        text-align: right;\n",
       "    }\n",
       "</style>\n",
       "<table border=\"1\" class=\"dataframe\">\n",
       "  <thead>\n",
       "    <tr style=\"text-align: right;\">\n",
       "      <th></th>\n",
       "      <th>bagimli_0</th>\n",
       "      <th>bagimli_1</th>\n",
       "    </tr>\n",
       "  </thead>\n",
       "  <tbody>\n",
       "    <tr>\n",
       "      <th>count</th>\n",
       "      <td>5853.000000</td>\n",
       "      <td>1319.000000</td>\n",
       "    </tr>\n",
       "    <tr>\n",
       "      <th>mean</th>\n",
       "      <td>23.327104</td>\n",
       "      <td>23.733318</td>\n",
       "    </tr>\n",
       "    <tr>\n",
       "      <th>std</th>\n",
       "      <td>13.218475</td>\n",
       "      <td>13.073512</td>\n",
       "    </tr>\n",
       "    <tr>\n",
       "      <th>min</th>\n",
       "      <td>0.248009</td>\n",
       "      <td>0.268947</td>\n",
       "    </tr>\n",
       "    <tr>\n",
       "      <th>25%</th>\n",
       "      <td>11.761157</td>\n",
       "      <td>12.194543</td>\n",
       "    </tr>\n",
       "    <tr>\n",
       "      <th>50%</th>\n",
       "      <td>23.640023</td>\n",
       "      <td>24.323264</td>\n",
       "    </tr>\n",
       "    <tr>\n",
       "      <th>75%</th>\n",
       "      <td>35.015000</td>\n",
       "      <td>35.745625</td>\n",
       "    </tr>\n",
       "    <tr>\n",
       "      <th>max</th>\n",
       "      <td>45.922720</td>\n",
       "      <td>45.781493</td>\n",
       "    </tr>\n",
       "  </tbody>\n",
       "</table>\n",
       "</div>"
      ],
      "text/plain": [
       "         bagimli_0    bagimli_1\n",
       "count  5853.000000  1319.000000\n",
       "mean     23.327104    23.733318\n",
       "std      13.218475    13.073512\n",
       "min       0.248009     0.268947\n",
       "25%      11.761157    12.194543\n",
       "50%      23.640023    24.323264\n",
       "75%      35.015000    35.745625\n",
       "max      45.922720    45.781493"
      ]
     },
     "execution_count": 90,
     "metadata": {},
     "output_type": "execute_result"
    }
   ],
   "source": [
    "bag_0 = df[df.bagimli==0]['delta_t'].describe()\n",
    "bag_0.name = 'bagimli_0'\n",
    "\n",
    "bag_1 = df[df.bagimli==1]['delta_t'].describe()\n",
    "bag_1.name = 'bagimli_1'\n",
    "\n",
    "pd.concat([bag_0,bag_1],axis=1)"
   ]
  },
  {
   "cell_type": "markdown",
   "id": "36c79352-26a5-4ef9-8208-336645090e85",
   "metadata": {},
   "source": [
    "# Grafik"
   ]
  },
  {
   "cell_type": "code",
   "execution_count": 13,
   "id": "6b9334c6-b41a-46d4-a010-641f8355d2c8",
   "metadata": {},
   "outputs": [
    {
     "data": {
      "text/plain": [
       "<AxesSubplot:xlabel='delta_t'>"
      ]
     },
     "execution_count": 13,
     "metadata": {},
     "output_type": "execute_result"
    },
    {
     "data": {
      "image/png": "[encoded data removed]",
      "text/plain": [
       "<Figure size 792x432 with 1 Axes>"
      ]
     },
     "metadata": {
      "needs_background": "light"
     },
     "output_type": "display_data"
    }
   ],
   "source": [
    "f, ax = plt.subplots(figsize=(11, 6))\n",
    "sns.violinplot(data=df, x=\"delta_t\")"
   ]
  },
  {
   "cell_type": "code",
   "execution_count": 14,
   "id": "bce5c6fd-34a4-48b3-b828-cf2b844a10c4",
   "metadata": {},
   "outputs": [
    {
     "data": {
      "text/plain": [
       "<AxesSubplot:xlabel='delta_t', ylabel='bagimli'>"
      ]
     },
     "execution_count": 14,
     "metadata": {},
     "output_type": "execute_result"
    },
    {
     "data": {
      "image/png": "[encoded data removed]",
      "text/plain": [
       "<Figure size 792x432 with 1 Axes>"
      ]
     },
     "metadata": {
      "needs_background": "light"
     },
     "output_type": "display_data"
    }
   ],
   "source": [
    "df_ = df.copy()\n",
    "df_['bagimli'] = df_['bagimli'].astype(str)\n",
    "f, ax = plt.subplots(figsize=(11, 6))\n",
    "sns.violinplot(data=df_, x=\"delta_t\",y='bagimli')"
   ]
  },
  {
   "cell_type": "markdown",
   "id": "d803149a-323f-4748-95dc-98cc2f01e314",
   "metadata": {},
   "source": [
    "# Model"
   ]
  },
  {
   "cell_type": "code",
   "execution_count": 15,
   "id": "ac684e78-dc93-409a-8868-4f45ee26111f",
   "metadata": {},
   "outputs": [
    {
     "data": {
      "text/html": [
       "<div>\n",
       "<style scoped>\n",
       "    .dataframe tbody tr th:only-of-type {\n",
       "        vertical-align: middle;\n",
       "    }\n",
       "\n",
       "    .dataframe tbody tr th {\n",
       "        vertical-align: top;\n",
       "    }\n",
       "\n",
       "    .dataframe thead th {\n",
       "        text-align: right;\n",
       "    }\n",
       "</style>\n",
       "<table border=\"1\" class=\"dataframe\">\n",
       "  <thead>\n",
       "    <tr style=\"text-align: right;\">\n",
       "      <th></th>\n",
       "      <th>se_date</th>\n",
       "      <th>eq_time</th>\n",
       "      <th>eq_lat</th>\n",
       "      <th>eq_lon</th>\n",
       "      <th>flag_deprem_kontrol_1</th>\n",
       "      <th>flag_icinde</th>\n",
       "      <th>nn_lat</th>\n",
       "      <th>nn_lon</th>\n",
       "      <th>distance_km</th>\n",
       "      <th>bagimli</th>\n",
       "      <th>delta_t</th>\n",
       "    </tr>\n",
       "  </thead>\n",
       "  <tbody>\n",
       "    <tr>\n",
       "      <th>0</th>\n",
       "      <td>1952-02-25</td>\n",
       "      <td>1952-02-28 00:34:06</td>\n",
       "      <td>-12.900</td>\n",
       "      <td>66.206</td>\n",
       "      <td>1</td>\n",
       "      <td>False</td>\n",
       "      <td>16.717778</td>\n",
       "      <td>34.584444</td>\n",
       "      <td>4784.148029</td>\n",
       "      <td>0</td>\n",
       "      <td>3.023681</td>\n",
       "    </tr>\n",
       "    <tr>\n",
       "      <th>1</th>\n",
       "      <td>1952-02-25</td>\n",
       "      <td>1952-03-02 18:52:57</td>\n",
       "      <td>11.303</td>\n",
       "      <td>-86.239</td>\n",
       "      <td>1</td>\n",
       "      <td>False</td>\n",
       "      <td>0.251667</td>\n",
       "      <td>-14.650556</td>\n",
       "      <td>7990.592495</td>\n",
       "      <td>0</td>\n",
       "      <td>6.786771</td>\n",
       "    </tr>\n",
       "  </tbody>\n",
       "</table>\n",
       "</div>"
      ],
      "text/plain": [
       "     se_date             eq_time  eq_lat  eq_lon  flag_deprem_kontrol_1  \\\n",
       "0 1952-02-25 1952-02-28 00:34:06 -12.900  66.206                      1   \n",
       "1 1952-02-25 1952-03-02 18:52:57  11.303 -86.239                      1   \n",
       "\n",
       "   flag_icinde     nn_lat     nn_lon  distance_km  bagimli   delta_t  \n",
       "0        False  16.717778  34.584444  4784.148029        0  3.023681  \n",
       "1        False   0.251667 -14.650556  7990.592495        0  6.786771  "
      ]
     },
     "metadata": {},
     "output_type": "display_data"
    },
    {
     "name": "stdout",
     "output_type": "stream",
     "text": [
      "<class 'pandas.core.frame.DataFrame'>\n",
      "RangeIndex: 7172 entries, 0 to 7171\n",
      "Data columns (total 11 columns):\n",
      " #   Column                 Non-Null Count  Dtype         \n",
      "---  ------                 --------------  -----         \n",
      " 0   se_date                7172 non-null   datetime64[ns]\n",
      " 1   eq_time                7172 non-null   datetime64[ns]\n",
      " 2   eq_lat                 7172 non-null   float64       \n",
      " 3   eq_lon                 7172 non-null   float64       \n",
      " 4   flag_deprem_kontrol_1  7172 non-null   int64         \n",
      " 5   flag_icinde            7172 non-null   bool          \n",
      " 6   nn_lat                 7172 non-null   float64       \n",
      " 7   nn_lon                 7171 non-null   float64       \n",
      " 8   distance_km            7171 non-null   float64       \n",
      " 9   bagimli                7172 non-null   int32         \n",
      " 10  delta_t                7172 non-null   float64       \n",
      "dtypes: bool(1), datetime64[ns](2), float64(6), int32(1), int64(1)\n",
      "memory usage: 539.4 KB\n"
     ]
    },
    {
     "data": {
      "text/plain": [
       "None"
      ]
     },
     "metadata": {},
     "output_type": "display_data"
    }
   ],
   "source": [
    "display_all(df.head(2))\n",
    "display_all(df.info())"
   ]
  },
  {
   "cell_type": "code",
   "execution_count": 16,
   "id": "c907fd86-1d50-4d2d-9e82-ae052dcb7820",
   "metadata": {},
   "outputs": [
    {
     "data": {
      "text/plain": [
       "0    0.81609\n",
       "1    0.18391\n",
       "Name: bagimli, dtype: float64"
      ]
     },
     "execution_count": 16,
     "metadata": {},
     "output_type": "execute_result"
    }
   ],
   "source": [
    "df.bagimli.value_counts(True)"
   ]
  },
  {
   "cell_type": "code",
   "execution_count": 17,
   "id": "236bc144-a98b-491a-874f-4d8e423775c0",
   "metadata": {},
   "outputs": [],
   "source": [
    "from sklearn import preprocessing\n",
    "from sklearn.model_selection import train_test_split, GridSearchCV, RandomizedSearchCV, StratifiedKFold\n",
    "from sklearn.preprocessing import MinMaxScaler,StandardScaler\n",
    "from sklearn.pipeline import Pipeline\n",
    "from sklearn.impute import SimpleImputer\n",
    "from sklearn.compose import ColumnTransformer\n",
    "from sklearn.metrics import classification_report, accuracy_score, roc_auc_score, confusion_matrix, plot_confusion_matrix\n",
    "from sklearn.metrics import f1_score, recall_score, jaccard_score"
   ]
  },
  {
   "cell_type": "code",
   "execution_count": 18,
   "id": "9750dbb7-bff4-4f29-8777-4db30c4a4cbd",
   "metadata": {},
   "outputs": [],
   "source": [
    "import sklearn"
   ]
  },
  {
   "cell_type": "code",
   "execution_count": 19,
   "id": "9aa4a5bd-e47f-4277-b09c-737d55b13de7",
   "metadata": {},
   "outputs": [
    {
     "data": {
      "text/plain": [
       "dict_keys(['explained_variance', 'r2', 'max_error', 'neg_median_absolute_error', 'neg_mean_absolute_error', 'neg_mean_absolute_percentage_error', 'neg_mean_squared_error', 'neg_mean_squared_log_error', 'neg_root_mean_squared_error', 'neg_mean_poisson_deviance', 'neg_mean_gamma_deviance', 'accuracy', 'top_k_accuracy', 'roc_auc', 'roc_auc_ovr', 'roc_auc_ovo', 'roc_auc_ovr_weighted', 'roc_auc_ovo_weighted', 'balanced_accuracy', 'average_precision', 'neg_log_loss', 'neg_brier_score', 'adjusted_rand_score', 'rand_score', 'homogeneity_score', 'completeness_score', 'v_measure_score', 'mutual_info_score', 'adjusted_mutual_info_score', 'normalized_mutual_info_score', 'fowlkes_mallows_score', 'precision', 'precision_macro', 'precision_micro', 'precision_samples', 'precision_weighted', 'recall', 'recall_macro', 'recall_micro', 'recall_samples', 'recall_weighted', 'f1', 'f1_macro', 'f1_micro', 'f1_samples', 'f1_weighted', 'jaccard', 'jaccard_macro', 'jaccard_micro', 'jaccard_samples', 'jaccard_weighted'])"
      ]
     },
     "execution_count": 19,
     "metadata": {},
     "output_type": "execute_result"
    }
   ],
   "source": [
    "sklearn.metrics.SCORERS.keys()\n",
    "#https://stephenallwright.com/micro-vs-macro-f1-score/"
   ]
  },
  {
   "cell_type": "code",
   "execution_count": 20,
   "id": "1f11dca1-c666-4712-b655-aca1d25a6d96",
   "metadata": {},
   "outputs": [],
   "source": [
    "#sklearn.metrics.SCORERS.values()"
   ]
  },
  {
   "cell_type": "code",
   "execution_count": 21,
   "id": "7f54277b-8483-4211-ab0b-268b0bb14d32",
   "metadata": {},
   "outputs": [],
   "source": [
    "from sklearn.linear_model import LogisticRegression,RidgeClassifier\n",
    "from sklearn.kernel_ridge import KernelRidge\n",
    "from sklearn.svm import SVC\n",
    "from sklearn.neighbors import KNeighborsClassifier\n",
    "from sklearn.naive_bayes import GaussianNB\n",
    "from sklearn.ensemble import RandomForestClassifier\n",
    "\n",
    "from sklearn.base import BaseEstimator\n",
    "class DummyEstimator(BaseEstimator):\n",
    "    def fit(self): pass\n",
    "    def score(self): pass"
   ]
  },
  {
   "cell_type": "markdown",
   "id": "f541f6dd-9504-4b55-9e69-33dd0022a528",
   "metadata": {},
   "source": [
    "## Logistic Reg"
   ]
  },
  {
   "cell_type": "code",
   "execution_count": 106,
   "id": "6f230e43-7926-45ec-a9e0-c8fa83edec50",
   "metadata": {},
   "outputs": [],
   "source": [
    "X, y = df.delta_t.to_numpy().reshape(-1,1), df.bagimli.to_numpy().reshape(-1,1)\n",
    "X_train, X_test, y_train, y_test = train_test_split(X,y, test_size=.3, random_state=1)"
   ]
  },
  {
   "cell_type": "code",
   "execution_count": 107,
   "id": "ffef24e2-6aa3-459f-9cf0-33bc5a208a30",
   "metadata": {},
   "outputs": [
    {
     "name": "stdout",
     "output_type": "stream",
     "text": [
      "0    2152\n",
      "Name: tahmin, dtype: int64\n",
      "0    1.0\n",
      "Name: tahmin, dtype: float64\n"
     ]
    }
   ],
   "source": [
    "clf = LogisticRegression().fit(X_train, y_train)\n",
    "\n",
    "predictions = clf.predict(X_test)\n",
    "predictions = pd.DataFrame(predictions,columns=['tahmin'])\n",
    "\n",
    "print(predictions.tahmin.value_counts())\n",
    "print(predictions.tahmin.value_counts(True))"
   ]
  },
  {
   "cell_type": "markdown",
   "id": "c4c4f96f-cfaf-4e62-9872-c156af80856d",
   "metadata": {},
   "source": [
    "## MinMaxScaler, test_size=.3"
   ]
  },
  {
   "cell_type": "code",
   "execution_count": 30,
   "id": "aa34d712-4446-4128-afca-bfcdf82ca7a7",
   "metadata": {},
   "outputs": [],
   "source": [
    "# Train-test ayırma\n",
    "X, y = df.delta_t.to_numpy().reshape(-1,1), df.bagimli.to_numpy().reshape(-1,1)\n",
    "X_train, X_test, y_train, y_test = train_test_split(X,y, test_size=.3, random_state=1, stratify=y)\n",
    "\n",
    "#scaler = StandardScaler()\n",
    "scaler = MinMaxScaler()\n",
    "scaler.fit(X_train)\n",
    "X_train_ = scaler.transform(X_train)\n",
    "X_test_ = scaler.transform(X_test)"
   ]
  },
  {
   "cell_type": "code",
   "execution_count": 31,
   "id": "224023cd-6867-4fcd-a18c-726990ffa00f",
   "metadata": {},
   "outputs": [],
   "source": [
    "# Hiperparametreler\n",
    "param_grid = [{'estimator':[LogisticRegression(fit_intercept=True, solver='lbfgs',\n",
    "                                               max_iter=1000,n_jobs=-1,random_state=1)],\n",
    "               'estimator__penalty':['none','l1','l2','elasticnet'],\n",
    "               'estimator__l1_ratio':[None, 1e-3, .01, .1, .5, 1],\n",
    "               'estimator__C':[.01, .1, 1, 10, 100]},\n",
    "              \n",
    "              {'estimator': [RidgeClassifier(fit_intercept=True,max_iter=1000,random_state=1)],\n",
    "               'estimator__alpha':[1e-3, .01, .1, 1,5],\n",
    "               'estimator__tol':[1e-6, 1e-3, .01, .1]},\n",
    "             \n",
    "              {'estimator':[SVC(max_iter=1000,random_state=1)],\n",
    "               'estimator__C':[.01, .1, 1, 10, 1000],\n",
    "               'estimator__kernel':['linear','rbf','poly'],\n",
    "               'estimator__degree':[1,2,3,4,5],\n",
    "               'estimator__tol':[1e-5, 1e-3, .01, .1]},\n",
    "              \n",
    "              {'estimator':[KNeighborsClassifier()],\n",
    "               'estimator__n_neighbors':[5,10,20,30],\n",
    "               'estimator__weights':['uniform','distance'],\n",
    "               'estimator__p':[1,2,3],\n",
    "               'estimator__leaf_size':[20,30,50]},\n",
    "              \n",
    "              {'estimator':[GaussianNB()]},\n",
    "              \n",
    "              {'estimator':[RandomForestClassifier(n_jobs=-1,random_state=1)],\n",
    "               'estimator__max_depth':[2,5,10,15],\n",
    "               'estimator__min_samples_leaf':[1,5,10]}\n",
    "              ]\n",
    "\n",
    "pipe = Pipeline(steps=[('estimator', DummyEstimator())],\n",
    "                verbose=False)"
   ]
  },
  {
   "cell_type": "code",
   "execution_count": 32,
   "id": "82e117d1-e15f-4417-a0d9-d7cf76ac2af3",
   "metadata": {},
   "outputs": [
    {
     "name": "stdout",
     "output_type": "stream",
     "text": [
      "Fitting 2 folds for each of 100 candidates, totalling 200 fits\n",
      "****************************************************************************************************\n",
      "LogisticRegression(C=1, l1_ratio=0.001, max_iter=1000, n_jobs=-1,\n",
      "                   random_state=1)\n",
      "****************************************************************************************************\n",
      "best_score_:  0.4493767742599901 \n",
      "\n",
      "best_index_:  1 \n",
      "\n",
      "              precision    recall  f1-score   support\n",
      "\n",
      "           0       0.82      1.00      0.90      1756\n",
      "           1       0.00      0.00      0.00       396\n",
      "\n",
      "    accuracy                           0.82      2152\n",
      "   macro avg       0.41      0.50      0.45      2152\n",
      "weighted avg       0.67      0.82      0.73      2152\n",
      "\n",
      "\n",
      "\n",
      "Fitting 2 folds for each of 20 candidates, totalling 40 fits\n",
      "****************************************************************************************************\n",
      "RidgeClassifier(alpha=0.001, max_iter=1000, random_state=1, tol=1e-06)\n",
      "****************************************************************************************************\n",
      "best_score_:  0.4493767742599901 \n",
      "\n",
      "best_index_:  0 \n",
      "\n",
      "              precision    recall  f1-score   support\n",
      "\n",
      "           0       0.82      1.00      0.90      1756\n",
      "           1       0.00      0.00      0.00       396\n",
      "\n",
      "    accuracy                           0.82      2152\n",
      "   macro avg       0.41      0.50      0.45      2152\n",
      "weighted avg       0.67      0.82      0.73      2152\n",
      "\n",
      "\n",
      "\n",
      "Fitting 2 folds for each of 100 candidates, totalling 200 fits\n",
      "****************************************************************************************************\n",
      "SVC(C=0.1, degree=4, kernel='poly', max_iter=1000, random_state=1, tol=0.01)\n",
      "****************************************************************************************************\n",
      "best_score_:  0.4956338961313153 \n",
      "\n",
      "best_index_:  4 \n",
      "\n",
      "              precision    recall  f1-score   support\n",
      "\n",
      "           0       0.81      0.85      0.83      1756\n",
      "           1       0.17      0.14      0.16       396\n",
      "\n",
      "    accuracy                           0.72      2152\n",
      "   macro avg       0.49      0.50      0.49      2152\n",
      "weighted avg       0.70      0.72      0.71      2152\n",
      "\n",
      "\n",
      "\n",
      "Fitting 2 folds for each of 72 candidates, totalling 144 fits\n",
      "****************************************************************************************************\n",
      "KNeighborsClassifier(leaf_size=20, p=1, weights='distance')\n",
      "****************************************************************************************************\n",
      "best_score_:  0.5152385741869678 \n",
      "\n",
      "best_index_:  1 \n",
      "\n",
      "              precision    recall  f1-score   support\n",
      "\n",
      "           0       0.81      0.88      0.84      1756\n",
      "           1       0.18      0.12      0.14       396\n",
      "\n",
      "    accuracy                           0.74      2152\n",
      "   macro avg       0.50      0.50      0.49      2152\n",
      "weighted avg       0.70      0.74      0.71      2152\n",
      "\n",
      "\n",
      "\n",
      "Fitting 2 folds for each of 1 candidates, totalling 2 fits\n",
      "****************************************************************************************************\n",
      "GaussianNB()\n",
      "****************************************************************************************************\n",
      "best_score_:  0.4493767742599901 \n",
      "\n",
      "best_index_:  0 \n",
      "\n",
      "              precision    recall  f1-score   support\n",
      "\n",
      "           0       0.82      1.00      0.90      1756\n",
      "           1       0.00      0.00      0.00       396\n",
      "\n",
      "    accuracy                           0.82      2152\n",
      "   macro avg       0.41      0.50      0.45      2152\n",
      "weighted avg       0.67      0.82      0.73      2152\n",
      "\n",
      "\n",
      "\n",
      "Fitting 2 folds for each of 12 candidates, totalling 24 fits\n",
      "****************************************************************************************************\n",
      "RandomForestClassifier(max_depth=15, n_jobs=-1, random_state=1)\n",
      "****************************************************************************************************\n",
      "best_score_:  0.48104336746862403 \n",
      "\n",
      "best_index_:  9 \n",
      "\n",
      "              precision    recall  f1-score   support\n",
      "\n",
      "           0       0.82      0.97      0.89      1756\n",
      "           1       0.25      0.05      0.08       396\n",
      "\n",
      "    accuracy                           0.80      2152\n",
      "   macro avg       0.53      0.51      0.49      2152\n",
      "weighted avg       0.71      0.80      0.74      2152\n",
      "\n",
      "\n",
      "\n"
     ]
    }
   ],
   "source": [
    "sonuc = pd.DataFrame()\n",
    "cmx = pd.DataFrame()\n",
    "sayac = 0\n",
    "\n",
    "for parameter in param_grid:\n",
    "    best_model = []\n",
    "    search = RandomizedSearchCV(estimator=pipe,param_distributions=parameter,\n",
    "                                n_iter=100,n_jobs=-1,random_state=1,\n",
    "                                cv=2,#https://stackoverflow.com/questions/51944281/how-to-correctly-implement-stratifiedkfold-with-randomizedsearchcv\n",
    "                                scoring='f1_macro',\n",
    "                                return_train_score=True,\n",
    "                                verbose=1)\n",
    "    best_model = search.fit(X_train_,y_train)\n",
    "    \n",
    "    title = str(best_model.best_params_['estimator'])\n",
    "    print('*'*100)\n",
    "    print(title)\n",
    "    print('*'*100)\n",
    "    print('best_score_: ',best_model.best_score_,'\\n')\n",
    "    #print('best_estimator_: ',best_model.best_estimator_,'\\n')\n",
    "    #print('best_params_: ',best_model.best_params_,'\\n')\n",
    "    print('best_index_: ',best_model.best_index_,'\\n')\n",
    "    \n",
    "    \n",
    "    # Tahminler\n",
    "\n",
    "    #clf = MLPClassifier(activation='relu', solver='sgd', learning_rate_init=0.2, tol=0.2, alpha=0.01)\n",
    "    clf = best_model.best_params_['estimator']\n",
    "    clf.fit(X_train_, y_train)\n",
    "    \n",
    "    \n",
    "    #y_test_idx = y_test.index\n",
    "\n",
    "    y_test_pred = clf.predict(X_test_)\n",
    "    y_test_pred = pd.DataFrame(y_test_pred,columns=['tahmin'])\n",
    "    #y_test_pred = y_test_pred.set_index(y_test_idx)\n",
    "    \n",
    "    print(classification_report(y_test, y_test_pred))#, target_names=labels))\n",
    "    print('\\n')\n",
    "    \n",
    "    acc_score = f1_score(y_test, y_test_pred,average='macro')\n",
    "    \n",
    "    sayac += 1\n",
    "    sonuc_ = pd.DataFrame(classification_report(y_test, y_test_pred, output_dict=True)).transpose()#target_names=labels, \n",
    "    sonuc_['macro_f1'] = acc_score\n",
    "    sonuc_['param'] = title\n",
    "    sonuc_['param_code'] = sayac\n",
    "    sonuc = sonuc.append(sonuc_, ignore_index=False)\n",
    "    \n",
    "    #labels_tahmin = ['tahmin_Deplasman', 'tahmin_Beraberlik', 'tahmin_EvSahibi']\n",
    "    #labels_gercek = ['gercek_Deplasman', 'gercek_Beraberlik', 'gercek_EvSahibi']\n",
    "    cmx_ = pd.DataFrame(confusion_matrix(y_true=y_test, y_pred=y_test_pred),columns=['tahmin_0','tahmin_1'])#,index=labels_gercek)\n",
    "    cmx_.index = ['gercek_0','gercek_1']\n",
    "    cmx_['accuracy_score'] = acc_score\n",
    "    cmx_['param'] = title\n",
    "    cmx_['param_code'] = sayac\n",
    "    cmx = cmx.append(cmx_, ignore_index=False)"
   ]
  },
  {
   "cell_type": "markdown",
   "id": "04b414fd-bc9f-4519-addc-9bbf4d14201c",
   "metadata": {},
   "source": [
    "#### Model Sonuçları"
   ]
  },
  {
   "cell_type": "code",
   "execution_count": 33,
   "id": "03740a49-b111-4890-a717-4e3e1c39df4b",
   "metadata": {},
   "outputs": [
    {
     "data": {
      "text/html": [
       "<div>\n",
       "<style scoped>\n",
       "    .dataframe tbody tr th:only-of-type {\n",
       "        vertical-align: middle;\n",
       "    }\n",
       "\n",
       "    .dataframe tbody tr th {\n",
       "        vertical-align: top;\n",
       "    }\n",
       "\n",
       "    .dataframe thead th {\n",
       "        text-align: right;\n",
       "    }\n",
       "</style>\n",
       "<table border=\"1\" class=\"dataframe\">\n",
       "  <thead>\n",
       "    <tr style=\"text-align: right;\">\n",
       "      <th></th>\n",
       "      <th>tahmin_0</th>\n",
       "      <th>tahmin_1</th>\n",
       "      <th>accuracy_score</th>\n",
       "      <th>param</th>\n",
       "      <th>param_code</th>\n",
       "    </tr>\n",
       "  </thead>\n",
       "  <tbody>\n",
       "    <tr>\n",
       "      <th>gercek_0</th>\n",
       "      <td>1756</td>\n",
       "      <td>0</td>\n",
       "      <td>0.449335</td>\n",
       "      <td>LogisticRegression(C=1, l1_ratio=0.001, max_it...</td>\n",
       "      <td>1</td>\n",
       "    </tr>\n",
       "    <tr>\n",
       "      <th>gercek_1</th>\n",
       "      <td>396</td>\n",
       "      <td>0</td>\n",
       "      <td>0.449335</td>\n",
       "      <td>LogisticRegression(C=1, l1_ratio=0.001, max_it...</td>\n",
       "      <td>1</td>\n",
       "    </tr>\n",
       "    <tr>\n",
       "      <th>gercek_0</th>\n",
       "      <td>1756</td>\n",
       "      <td>0</td>\n",
       "      <td>0.449335</td>\n",
       "      <td>RidgeClassifier(alpha=0.001, max_iter=1000, ra...</td>\n",
       "      <td>2</td>\n",
       "    </tr>\n",
       "    <tr>\n",
       "      <th>gercek_1</th>\n",
       "      <td>396</td>\n",
       "      <td>0</td>\n",
       "      <td>0.449335</td>\n",
       "      <td>RidgeClassifier(alpha=0.001, max_iter=1000, ra...</td>\n",
       "      <td>2</td>\n",
       "    </tr>\n",
       "    <tr>\n",
       "      <th>gercek_0</th>\n",
       "      <td>1487</td>\n",
       "      <td>269</td>\n",
       "      <td>0.494079</td>\n",
       "      <td>SVC(C=0.1, degree=4, kernel='poly', max_iter=1...</td>\n",
       "      <td>3</td>\n",
       "    </tr>\n",
       "    <tr>\n",
       "      <th>gercek_1</th>\n",
       "      <td>339</td>\n",
       "      <td>57</td>\n",
       "      <td>0.494079</td>\n",
       "      <td>SVC(C=0.1, degree=4, kernel='poly', max_iter=1...</td>\n",
       "      <td>3</td>\n",
       "    </tr>\n",
       "    <tr>\n",
       "      <th>gercek_0</th>\n",
       "      <td>1537</td>\n",
       "      <td>219</td>\n",
       "      <td>0.493018</td>\n",
       "      <td>KNeighborsClassifier(leaf_size=20, p=1, weight...</td>\n",
       "      <td>4</td>\n",
       "    </tr>\n",
       "    <tr>\n",
       "      <th>gercek_1</th>\n",
       "      <td>349</td>\n",
       "      <td>47</td>\n",
       "      <td>0.493018</td>\n",
       "      <td>KNeighborsClassifier(leaf_size=20, p=1, weight...</td>\n",
       "      <td>4</td>\n",
       "    </tr>\n",
       "    <tr>\n",
       "      <th>gercek_0</th>\n",
       "      <td>1756</td>\n",
       "      <td>0</td>\n",
       "      <td>0.449335</td>\n",
       "      <td>GaussianNB()</td>\n",
       "      <td>5</td>\n",
       "    </tr>\n",
       "    <tr>\n",
       "      <th>gercek_1</th>\n",
       "      <td>396</td>\n",
       "      <td>0</td>\n",
       "      <td>0.449335</td>\n",
       "      <td>GaussianNB()</td>\n",
       "      <td>5</td>\n",
       "    </tr>\n",
       "    <tr>\n",
       "      <th>gercek_0</th>\n",
       "      <td>1696</td>\n",
       "      <td>60</td>\n",
       "      <td>0.485068</td>\n",
       "      <td>RandomForestClassifier(max_depth=15, n_jobs=-1...</td>\n",
       "      <td>6</td>\n",
       "    </tr>\n",
       "    <tr>\n",
       "      <th>gercek_1</th>\n",
       "      <td>376</td>\n",
       "      <td>20</td>\n",
       "      <td>0.485068</td>\n",
       "      <td>RandomForestClassifier(max_depth=15, n_jobs=-1...</td>\n",
       "      <td>6</td>\n",
       "    </tr>\n",
       "  </tbody>\n",
       "</table>\n",
       "</div>"
      ],
      "text/plain": [
       "          tahmin_0  tahmin_1  accuracy_score  \\\n",
       "gercek_0      1756         0        0.449335   \n",
       "gercek_1       396         0        0.449335   \n",
       "gercek_0      1756         0        0.449335   \n",
       "gercek_1       396         0        0.449335   \n",
       "gercek_0      1487       269        0.494079   \n",
       "gercek_1       339        57        0.494079   \n",
       "gercek_0      1537       219        0.493018   \n",
       "gercek_1       349        47        0.493018   \n",
       "gercek_0      1756         0        0.449335   \n",
       "gercek_1       396         0        0.449335   \n",
       "gercek_0      1696        60        0.485068   \n",
       "gercek_1       376        20        0.485068   \n",
       "\n",
       "                                                      param  param_code  \n",
       "gercek_0  LogisticRegression(C=1, l1_ratio=0.001, max_it...           1  \n",
       "gercek_1  LogisticRegression(C=1, l1_ratio=0.001, max_it...           1  \n",
       "gercek_0  RidgeClassifier(alpha=0.001, max_iter=1000, ra...           2  \n",
       "gercek_1  RidgeClassifier(alpha=0.001, max_iter=1000, ra...           2  \n",
       "gercek_0  SVC(C=0.1, degree=4, kernel='poly', max_iter=1...           3  \n",
       "gercek_1  SVC(C=0.1, degree=4, kernel='poly', max_iter=1...           3  \n",
       "gercek_0  KNeighborsClassifier(leaf_size=20, p=1, weight...           4  \n",
       "gercek_1  KNeighborsClassifier(leaf_size=20, p=1, weight...           4  \n",
       "gercek_0                                       GaussianNB()           5  \n",
       "gercek_1                                       GaussianNB()           5  \n",
       "gercek_0  RandomForestClassifier(max_depth=15, n_jobs=-1...           6  \n",
       "gercek_1  RandomForestClassifier(max_depth=15, n_jobs=-1...           6  "
      ]
     },
     "execution_count": 33,
     "metadata": {},
     "output_type": "execute_result"
    }
   ],
   "source": [
    "cmx"
   ]
  },
  {
   "cell_type": "markdown",
   "id": "5bbe9e9f-5c4f-40d9-bfef-8c7db6e5b30a",
   "metadata": {},
   "source": [
    "# Karar Model SVM: 4.3.2.1: SVC(C=0.1, degree=4, kernel='poly', max_iter=1000, random_state=1, tol=0.01)"
   ]
  },
  {
   "cell_type": "code",
   "execution_count": 129,
   "id": "d29823cd-350d-46e3-a0e4-d3e4e90148df",
   "metadata": {},
   "outputs": [
    {
     "name": "stdout",
     "output_type": "stream",
     "text": [
      "0    1826\n",
      "1     326\n",
      "Name: tahmin, dtype: int64\n",
      "0    0.848513\n",
      "1    0.151487\n",
      "Name: tahmin, dtype: float64\n",
      "(2152, 1)\n"
     ]
    }
   ],
   "source": [
    "# Train-test ayırma\n",
    "X, y = df.delta_t.to_numpy().reshape(-1,1), df.bagimli.to_numpy().reshape(-1,1)\n",
    "X_train, X_test, y_train, y_test = train_test_split(X,y, test_size=.3, random_state=1, stratify=y)\n",
    "\n",
    "#scaler = StandardScaler()\n",
    "scaler = MinMaxScaler()\n",
    "scaler.fit(X_train)\n",
    "X_train_ = scaler.transform(X_train)\n",
    "X_test_ = scaler.transform(X_test)\n",
    "\n",
    "clf = SVC(C=0.1, degree=4, kernel='poly', max_iter=1000, random_state=1, tol=0.01).fit(X_train_, y_train)\n",
    "\n",
    "predictions = clf.predict(X_test_)\n",
    "predictions = pd.DataFrame(predictions,columns=['tahmin'])\n",
    "\n",
    "print(predictions.tahmin.value_counts().sort_index())\n",
    "print(predictions.tahmin.value_counts(True).sort_index())\n",
    "print(predictions.shape)"
   ]
  },
  {
   "cell_type": "code",
   "execution_count": 130,
   "id": "003716e2-6d78-45cd-8581-fcac9323b1f3",
   "metadata": {},
   "outputs": [
    {
     "name": "stdout",
     "output_type": "stream",
     "text": [
      "(2152, 1)\n"
     ]
    }
   ],
   "source": [
    "gercek = pd.DataFrame(y_test)\n",
    "gercek.columns = ['gercek']\n",
    "print(gercek.shape)"
   ]
  },
  {
   "cell_type": "code",
   "execution_count": 140,
   "id": "71f1ef98-f36b-45a8-a0af-1b95d015ed14",
   "metadata": {},
   "outputs": [
    {
     "data": {
      "text/html": [
       "<div>\n",
       "<style scoped>\n",
       "    .dataframe tbody tr th:only-of-type {\n",
       "        vertical-align: middle;\n",
       "    }\n",
       "\n",
       "    .dataframe tbody tr th {\n",
       "        vertical-align: top;\n",
       "    }\n",
       "\n",
       "    .dataframe thead th {\n",
       "        text-align: right;\n",
       "    }\n",
       "</style>\n",
       "<table border=\"1\" class=\"dataframe\">\n",
       "  <thead>\n",
       "    <tr style=\"text-align: right;\">\n",
       "      <th></th>\n",
       "      <th>gercek</th>\n",
       "      <th>tahmin</th>\n",
       "      <th>hata</th>\n",
       "    </tr>\n",
       "  </thead>\n",
       "  <tbody>\n",
       "    <tr>\n",
       "      <th>0</th>\n",
       "      <td>0</td>\n",
       "      <td>0</td>\n",
       "      <td>0</td>\n",
       "    </tr>\n",
       "    <tr>\n",
       "      <th>1</th>\n",
       "      <td>0</td>\n",
       "      <td>0</td>\n",
       "      <td>0</td>\n",
       "    </tr>\n",
       "    <tr>\n",
       "      <th>2</th>\n",
       "      <td>1</td>\n",
       "      <td>0</td>\n",
       "      <td>1</td>\n",
       "    </tr>\n",
       "    <tr>\n",
       "      <th>3</th>\n",
       "      <td>0</td>\n",
       "      <td>0</td>\n",
       "      <td>0</td>\n",
       "    </tr>\n",
       "    <tr>\n",
       "      <th>4</th>\n",
       "      <td>0</td>\n",
       "      <td>0</td>\n",
       "      <td>0</td>\n",
       "    </tr>\n",
       "  </tbody>\n",
       "</table>\n",
       "</div>"
      ],
      "text/plain": [
       "   gercek  tahmin  hata\n",
       "0       0       0     0\n",
       "1       0       0     0\n",
       "2       1       0     1\n",
       "3       0       0     0\n",
       "4       0       0     0"
      ]
     },
     "execution_count": 140,
     "metadata": {},
     "output_type": "execute_result"
    }
   ],
   "source": [
    "final = pd.concat([gercek,predictions],axis=1,ignore_index=False)\n",
    "final['hata'] = final['gercek']-final['tahmin']\n",
    "final.head()"
   ]
  },
  {
   "cell_type": "markdown",
   "id": "76ed4ecc-2154-4af6-aeb3-273a12b8dea4",
   "metadata": {},
   "source": [
    "## Autocorrelation "
   ]
  },
  {
   "cell_type": "code",
   "execution_count": 141,
   "id": "6c1f6613-0239-4d0a-a331-16aa9113b005",
   "metadata": {},
   "outputs": [],
   "source": [
    "from statsmodels.tsa.stattools import acf\n",
    "#https://www.statsmodels.org/dev/generated/statsmodels.tsa.stattools.acf.html"
   ]
  },
  {
   "cell_type": "code",
   "execution_count": 189,
   "id": "f500bf2b-c0ce-47aa-83e0-8ed66e5977e5",
   "metadata": {},
   "outputs": [
    {
     "data": {
      "text/html": [
       "<div>\n",
       "<style scoped>\n",
       "    .dataframe tbody tr th:only-of-type {\n",
       "        vertical-align: middle;\n",
       "    }\n",
       "\n",
       "    .dataframe tbody tr th {\n",
       "        vertical-align: top;\n",
       "    }\n",
       "\n",
       "    .dataframe thead th {\n",
       "        text-align: right;\n",
       "    }\n",
       "</style>\n",
       "<table border=\"1\" class=\"dataframe\">\n",
       "  <thead>\n",
       "    <tr style=\"text-align: right;\">\n",
       "      <th></th>\n",
       "      <th>acf</th>\n",
       "      <th>ljung_box_q</th>\n",
       "      <th>pvalue</th>\n",
       "    </tr>\n",
       "  </thead>\n",
       "  <tbody>\n",
       "    <tr>\n",
       "      <th>1</th>\n",
       "      <td>0.012748</td>\n",
       "      <td>1.097797</td>\n",
       "      <td>0.577586</td>\n",
       "    </tr>\n",
       "    <tr>\n",
       "      <th>2</th>\n",
       "      <td>-0.018621</td>\n",
       "      <td>1.451123</td>\n",
       "      <td>0.693596</td>\n",
       "    </tr>\n",
       "  </tbody>\n",
       "</table>\n",
       "</div>"
      ],
      "text/plain": [
       "        acf  ljung_box_q    pvalue\n",
       "1  0.012748     1.097797  0.577586\n",
       "2 -0.018621     1.451123  0.693596"
      ]
     },
     "metadata": {},
     "output_type": "display_data"
    },
    {
     "data": {
      "text/html": [
       "<div>\n",
       "<style scoped>\n",
       "    .dataframe tbody tr th:only-of-type {\n",
       "        vertical-align: middle;\n",
       "    }\n",
       "\n",
       "    .dataframe tbody tr th {\n",
       "        vertical-align: top;\n",
       "    }\n",
       "\n",
       "    .dataframe thead th {\n",
       "        text-align: right;\n",
       "    }\n",
       "</style>\n",
       "<table border=\"1\" class=\"dataframe\">\n",
       "  <thead>\n",
       "    <tr style=\"text-align: right;\">\n",
       "      <th></th>\n",
       "      <th>acf</th>\n",
       "      <th>ljung_box_q</th>\n",
       "      <th>pvalue</th>\n",
       "    </tr>\n",
       "  </thead>\n",
       "  <tbody>\n",
       "    <tr>\n",
       "      <th>31</th>\n",
       "      <td>0.032668</td>\n",
       "      <td>28.765624</td>\n",
       "      <td>0.631040</td>\n",
       "    </tr>\n",
       "    <tr>\n",
       "      <th>32</th>\n",
       "      <td>-0.001949</td>\n",
       "      <td>29.042799</td>\n",
       "      <td>0.664593</td>\n",
       "    </tr>\n",
       "  </tbody>\n",
       "</table>\n",
       "</div>"
      ],
      "text/plain": [
       "         acf  ljung_box_q    pvalue\n",
       "31  0.032668    28.765624  0.631040\n",
       "32 -0.001949    29.042799  0.664593"
      ]
     },
     "metadata": {},
     "output_type": "display_data"
    }
   ],
   "source": [
    "df_acf = pd.DataFrame(acf(final['hata'],qstat=True)).T[1:-1]\n",
    "df_acf.columns = ['acf','ljung_box_q','pvalue']\n",
    "display_all(df_acf.head(2))\n",
    "display_all(df_acf.tail(2))"
   ]
  },
  {
   "cell_type": "code",
   "execution_count": 190,
   "id": "0046b91c-52ad-479a-b9ed-935638ab234a",
   "metadata": {},
   "outputs": [
    {
     "data": {
      "text/plain": [
       "<AxesSubplot:>"
      ]
     },
     "execution_count": 190,
     "metadata": {},
     "output_type": "execute_result"
    },
    {
     "data": {
      "image/png": "[encoded data removed]",
      "text/plain": [
       "<Figure size 792x432 with 1 Axes>"
      ]
     },
     "metadata": {
      "needs_background": "light"
     },
     "output_type": "display_data"
    }
   ],
   "source": [
    "f, ax = plt.subplots(figsize=(11, 6))\n",
    "df_acf['acf'].plot(kind='bar')"
   ]
  },
  {
   "cell_type": "code",
   "execution_count": null,
   "id": "1b616971-8430-406e-8278-437a41a37fa7",
   "metadata": {},
   "outputs": [],
   "source": []
  }
 ],
 "metadata": {
  "kernelspec": {
   "display_name": "Python 3 (ipykernel)",
   "language": "python",
   "name": "python3"
  },
  "language_info": {
   "codemirror_mode": {
    "name": "ipython",
    "version": 3
   },
   "file_extension": ".py",
   "mimetype": "text/x-python",
   "name": "python",
   "nbconvert_exporter": "python",
   "pygments_lexer": "ipython3",
   "version": "3.9.7"
  },
  "toc-autonumbering": true,
  "toc-showcode": false,
  "toc-showmarkdowntxt": false
 },
 "nbformat": 4,
 "nbformat_minor": 5
}
